{
 "cells": [
  {
   "cell_type": "code",
   "execution_count": 1,
   "metadata": {},
   "outputs": [],
   "source": [
    "import cv2\n",
    "import numpy as np\n",
    "import matplotlib.pyplot as plt"
   ]
  },
  {
   "cell_type": "code",
   "execution_count": 34,
   "metadata": {},
   "outputs": [
    {
     "data": {
      "text/plain": [
       "True"
      ]
     },
     "execution_count": 34,
     "metadata": {},
     "output_type": "execute_result"
    }
   ],
   "source": [
    "bg = np.ones((250,500,3))*255\n",
    "\n",
    "cv2.putText(bg,'RAINBOW',(105,70),cv2.FONT_HERSHEY_COMPLEX,2,(133, 0, 140),5)\n",
    "\n",
    "cv2.ellipse(bg,center=(250,200),axes=(50,50),angle=180,startAngle=0,endAngle=180,color=(133, 0, 140),thickness=15)\n",
    "\n",
    "cv2.ellipse(bg,center=(250,200),axes=(60,60),angle=180,startAngle=0,endAngle=180,color=(255, 0, 0),thickness=15)\n",
    "\n",
    "cv2.ellipse(bg,center=(250,200),axes=(70,70),angle=180,startAngle=0,endAngle=180,color=(255, 250, 0),thickness=15)\n",
    "\n",
    "cv2.ellipse(bg,center=(250,200),axes=(80,80),angle=180,startAngle=0,endAngle=180,color=(0, 130, 0),thickness=15)\n",
    "\n",
    "cv2.ellipse(bg,center=(250,200),axes=(90,90),angle=180,startAngle=0,endAngle=180,color=(0, 255, 255),thickness=15)\n",
    "\n",
    "cv2.ellipse(bg,center=(250,200),axes=(100,100),angle=180,startAngle=0,endAngle=180,color=(0, 160, 255),thickness=15)\n",
    "\n",
    "cv2.ellipse(bg,center=(250,200),axes=(110,110),angle=180,startAngle=0,endAngle=180,color=(0, 0, 255),thickness=15)\n",
    "\n",
    "cv2.ellipse(bg,center=(250,200),axes=(120,120),angle=180,startAngle=0,endAngle=180,color=(255,255,255),thickness=15)\n",
    "\n",
    "\n",
    "cv2.imwrite('output/rainbow.png',bg)\n"
   ]
  }
 ],
 "metadata": {
  "kernelspec": {
   "display_name": "Python 3",
   "language": "python",
   "name": "python3"
  },
  "language_info": {
   "codemirror_mode": {
    "name": "ipython",
    "version": 3
   },
   "file_extension": ".py",
   "mimetype": "text/x-python",
   "name": "python",
   "nbconvert_exporter": "python",
   "pygments_lexer": "ipython3",
   "version": "3.11.7"
  }
 },
 "nbformat": 4,
 "nbformat_minor": 2
}
