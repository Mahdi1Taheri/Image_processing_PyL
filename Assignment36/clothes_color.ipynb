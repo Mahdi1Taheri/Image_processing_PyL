{
 "cells": [
  {
   "cell_type": "code",
   "execution_count": 2,
   "metadata": {},
   "outputs": [],
   "source": [
    "import cv2\n",
    "import numpy as np\n",
    "import matplotlib.pyplot as plt"
   ]
  },
  {
   "cell_type": "code",
   "execution_count": 78,
   "metadata": {},
   "outputs": [
    {
     "data": {
      "text/plain": [
       "True"
      ]
     },
     "execution_count": 78,
     "metadata": {},
     "output_type": "execute_result"
    }
   ],
   "source": [
    "img = cv2.imread('input/me.jpg')\n",
    "img2 = cv2.cvtColor(img,cv2.COLOR_BGR2HSV)\n",
    "\n",
    "h,s,v = cv2.split(img2)\n",
    "\n",
    "for i in range(img2.shape[0]):\n",
    "    for j in range(img2.shape[1]):\n",
    "        if (h[i,j] < 5 or h[i,j] > 170) and s[i,j] > 140 :\n",
    "            h[i,j] += 70\n",
    "img2 = cv2.merge((h,s,v))\n",
    "img2 = cv2.cvtColor(img2,cv2.COLOR_HSV2BGR)\n",
    "imgs = np.hstack((img,img2))\n",
    "cv2.imwrite(\"output/clothes_color.png\",imgs)"
   ]
  }
 ],
 "metadata": {
  "kernelspec": {
   "display_name": "Python 3",
   "language": "python",
   "name": "python3"
  },
  "language_info": {
   "codemirror_mode": {
    "name": "ipython",
    "version": 3
   },
   "file_extension": ".py",
   "mimetype": "text/x-python",
   "name": "python",
   "nbconvert_exporter": "python",
   "pygments_lexer": "ipython3",
   "version": "3.11.8"
  }
 },
 "nbformat": 4,
 "nbformat_minor": 2
}
