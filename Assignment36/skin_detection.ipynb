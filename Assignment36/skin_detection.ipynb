{
 "cells": [
  {
   "cell_type": "code",
   "execution_count": 26,
   "metadata": {},
   "outputs": [],
   "source": [
    "import cv2\n",
    "import numpy as np\n",
    "import matplotlib.pyplot as plt"
   ]
  },
  {
   "cell_type": "code",
   "execution_count": 27,
   "metadata": {},
   "outputs": [],
   "source": [
    "cap = cv2.VideoCapture(0)\n",
    "\n",
    "lower = np.array([0, 50, 50], dtype = \"uint8\")\n",
    "upper = np.array([25, 255, 200], dtype = \"uint8\")"
   ]
  },
  {
   "cell_type": "code",
   "execution_count": 28,
   "metadata": {},
   "outputs": [],
   "source": [
    "while True:\n",
    "    _,frame = cap.read()\n",
    "    frame_hsv = cv2.cvtColor(frame, cv2.COLOR_BGR2HSV)\n",
    "    skin_mask = cv2.inRange(frame_hsv,lower,upper)\n",
    "    kernel = cv2.getStructuringElement(cv2.MORPH_ELLIPSE, (11, 11))\n",
    "    skin_mask = cv2.erode(skin_mask, kernel, iterations = 2)\n",
    "    skin_mask = cv2.dilate(skin_mask, kernel, iterations = 2)\n",
    "    skin_mask = cv2.GaussianBlur(skin_mask, (3, 3), 0)\n",
    "    skin_result = cv2.bitwise_and(frame,frame,mask=skin_mask)\n",
    "    # skin_result = cv2.cvtColor(skin_result,cv2.COLOR_HSV2RGB)\n",
    "\n",
    "    cv2.imshow('skin detection', skin_result)\n",
    "    if cv2.waitKey(1) & 0xff == ord('q'):\n",
    "        break\n",
    "\n",
    "cap.release()\n",
    "cv2.destroyAllWindows()\n"
   ]
  }
 ],
 "metadata": {
  "kernelspec": {
   "display_name": "Python 3",
   "language": "python",
   "name": "python3"
  },
  "language_info": {
   "codemirror_mode": {
    "name": "ipython",
    "version": 3
   },
   "file_extension": ".py",
   "mimetype": "text/x-python",
   "name": "python",
   "nbconvert_exporter": "python",
   "pygments_lexer": "ipython3",
   "version": "3.11.8"
  }
 },
 "nbformat": 4,
 "nbformat_minor": 2
}
