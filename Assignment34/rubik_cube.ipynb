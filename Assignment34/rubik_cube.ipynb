{
 "cells": [
  {
   "cell_type": "code",
   "execution_count": 1,
   "metadata": {},
   "outputs": [],
   "source": [
    "import cv2\n",
    "import numpy as np\n",
    "import matplotlib.pyplot as plt"
   ]
  },
  {
   "cell_type": "code",
   "execution_count": 13,
   "metadata": {},
   "outputs": [
    {
     "data": {
      "text/plain": [
       "True"
      ]
     },
     "execution_count": 13,
     "metadata": {},
     "output_type": "execute_result"
    }
   ],
   "source": [
    "img = cv2.imread('input/rubik.png')\n",
    "\n",
    "row,col,_ = img.shape\n",
    "\n",
    "for i in range(row):\n",
    "    for j in range(col):\n",
    "        b, g, r= img[i, j]\n",
    "        if (b == 0) and (g == 255) and (r == 255):\n",
    "            b,g,r = (255,0,0)\n",
    "        elif (b==255) and (g==255) and (r==0):\n",
    "            b,g,r = (0,0,255)\n",
    "        elif (b==255) and (g==0) and (r==255):\n",
    "            b,g,r = (0,255,0)\n",
    "\n",
    "        img[i, j]=b, g, r\n",
    "cv2.imwrite('output/rubik_solved.png',img)\n"
   ]
  }
 ],
 "metadata": {
  "kernelspec": {
   "display_name": "Python 3",
   "language": "python",
   "name": "python3"
  },
  "language_info": {
   "codemirror_mode": {
    "name": "ipython",
    "version": 3
   },
   "file_extension": ".py",
   "mimetype": "text/x-python",
   "name": "python",
   "nbconvert_exporter": "python",
   "pygments_lexer": "ipython3",
   "version": "3.11.7"
  }
 },
 "nbformat": 4,
 "nbformat_minor": 2
}
