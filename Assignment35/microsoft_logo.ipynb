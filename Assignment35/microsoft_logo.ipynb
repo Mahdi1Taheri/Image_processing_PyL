{
 "cells": [
  {
   "cell_type": "code",
   "execution_count": 2,
   "metadata": {},
   "outputs": [],
   "source": [
    "import cv2\n",
    "import numpy as np\n",
    "import matplotlib.pyplot as plt\n",
    "from PIL import Image,ImageDraw,ImageFont"
   ]
  },
  {
   "cell_type": "code",
   "execution_count": 33,
   "metadata": {},
   "outputs": [],
   "source": [
    "bg = np.full((310,980,3),80,dtype=np.uint8)\n",
    "# red\n",
    "bg[50:150,100:200] = (242, 80, 34)\n",
    "# green\n",
    "bg[50:150,210:310] = (127, 186, 0)\n",
    "# yellow\n",
    "bg[160:260,210:310] = (255, 185, 1)\n",
    "# blue\n",
    "bg[160:260,100:200] = (1, 164, 239)\n",
    "\n",
    "\n",
    "def transparent_img():\n",
    "    img = Image.fromarray(bg)\n",
    "    img = img.convert(\"RGBA\")\n",
    " \n",
    "    data = img.getdata()\n",
    " \n",
    "    new_data = []\n",
    " \n",
    "    for item in data:\n",
    "        if item[0] == 80 and item[1] == 80 and item[2] == 80:\n",
    "            new_data.append((80, 80, 80, 0))\n",
    "        else:\n",
    "            new_data.append(item)\n",
    " \n",
    "    img.putdata(new_data)\n",
    "    return img\n",
    "\n",
    "ms_transparent = transparent_img()\n",
    "draw = ImageDraw.Draw(ms_transparent)  \n",
    "font = ImageFont.truetype('input/SEGUISB.TTF',120)\n",
    "draw.text((350,70), \"Microsoft\", font=font)  \n",
    "ms_transparent.save(\"output/ms_logo.png\")\n"
   ]
  }
 ],
 "metadata": {
  "kernelspec": {
   "display_name": "Python 3",
   "language": "python",
   "name": "python3"
  },
  "language_info": {
   "codemirror_mode": {
    "name": "ipython",
    "version": 3
   },
   "file_extension": ".py",
   "mimetype": "text/x-python",
   "name": "python",
   "nbconvert_exporter": "python",
   "pygments_lexer": "ipython3",
   "version": "3.11.8"
  }
 },
 "nbformat": 4,
 "nbformat_minor": 2
}
