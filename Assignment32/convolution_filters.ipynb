{
 "cells": [
  {
   "cell_type": "code",
   "execution_count": 2,
   "metadata": {},
   "outputs": [],
   "source": [
    "import cv2\n",
    "import numpy as np"
   ]
  },
  {
   "cell_type": "code",
   "execution_count": 3,
   "metadata": {},
   "outputs": [],
   "source": [
    "img = cv2.imread('input/bear.jpg')"
   ]
  },
  {
   "cell_type": "code",
   "execution_count": 87,
   "metadata": {},
   "outputs": [],
   "source": [
    "# 1. Edge detection filter\n",
    "kernel1 = np.array([[-1 , -1 , -1],\n",
    "                   [-1 ,  8 , -1],\n",
    "                   [-1 , -1 , -1]])\n",
    "\n",
    "# 2. Sharpening filter\n",
    "kernel2 = np.array([[0  , -1 ,  0],\n",
    "                   [-1 ,  5 , -1],\n",
    "                   [0  , -1 ,  0]])\n",
    "\n",
    "# 3. Emboss filter\n",
    "kernel3 = np.array([[-2 , -1 ,  0],\n",
    "                   [-1 ,  1 ,  1],\n",
    "                   [0  ,  1 ,  2]])\n",
    "\n",
    "# 4. Identity filter\n",
    "kernel4 = np.array([[0  ,  0 ,  0],\n",
    "                   [0  ,  1 ,  0],\n",
    "                   [0  ,  0 ,  0]])\n",
    "\n",
    "# 5. Your filter\n",
    "kernel5 = np.array([[1 ,  -1,  1],\n",
    "                 [1  ,  -2 , -1],\n",
    "                  [1,  1 ,  -1]])\n"
   ]
  },
  {
   "cell_type": "code",
   "execution_count": 5,
   "metadata": {},
   "outputs": [
    {
     "data": {
      "text/plain": [
       "True"
      ]
     },
     "execution_count": 5,
     "metadata": {},
     "output_type": "execute_result"
    }
   ],
   "source": [
    "result1 = cv2.filter2D(img,-1,kernel1)\n",
    "result1 = np.hstack((img,result1))\n",
    "cv2.imwrite('output/result_kernel1.png',result1)"
   ]
  },
  {
   "cell_type": "code",
   "execution_count": 6,
   "metadata": {},
   "outputs": [
    {
     "data": {
      "text/plain": [
       "True"
      ]
     },
     "execution_count": 6,
     "metadata": {},
     "output_type": "execute_result"
    }
   ],
   "source": [
    "result2 = cv2.filter2D(img,-1,kernel2)\n",
    "result2 = np.hstack((img,result2))\n",
    "cv2.imwrite('output/result_kernel2.png',result2)"
   ]
  },
  {
   "cell_type": "code",
   "execution_count": 7,
   "metadata": {},
   "outputs": [
    {
     "data": {
      "text/plain": [
       "True"
      ]
     },
     "execution_count": 7,
     "metadata": {},
     "output_type": "execute_result"
    }
   ],
   "source": [
    "result3 = cv2.filter2D(img,-1,kernel3)\n",
    "result3 = np.hstack((img,result3))\n",
    "cv2.imwrite('output/result_kernel3.png',result3)"
   ]
  },
  {
   "cell_type": "code",
   "execution_count": 8,
   "metadata": {},
   "outputs": [
    {
     "data": {
      "text/plain": [
       "True"
      ]
     },
     "execution_count": 8,
     "metadata": {},
     "output_type": "execute_result"
    }
   ],
   "source": [
    "result4 = cv2.filter2D(img,-1,kernel4)\n",
    "result4 = np.hstack((img,result4))\n",
    "cv2.imwrite('output/result_kernel4.png',result4)"
   ]
  },
  {
   "cell_type": "code",
   "execution_count": 88,
   "metadata": {},
   "outputs": [
    {
     "data": {
      "text/plain": [
       "True"
      ]
     },
     "execution_count": 88,
     "metadata": {},
     "output_type": "execute_result"
    }
   ],
   "source": [
    "result5 = cv2.filter2D(img,-1,kernel5)\n",
    "result5 = np.hstack((img,result5))\n",
    "cv2.imwrite('output/result_kernel5.png',result5)"
   ]
  }
 ],
 "metadata": {
  "kernelspec": {
   "display_name": "Python 3",
   "language": "python",
   "name": "python3"
  },
  "language_info": {
   "codemirror_mode": {
    "name": "ipython",
    "version": 3
   },
   "file_extension": ".py",
   "mimetype": "text/x-python",
   "name": "python",
   "nbconvert_exporter": "python",
   "pygments_lexer": "ipython3",
   "version": "3.10.9"
  }
 },
 "nbformat": 4,
 "nbformat_minor": 2
}
